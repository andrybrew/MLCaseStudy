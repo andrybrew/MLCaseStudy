{
  "nbformat": 4,
  "nbformat_minor": 0,
  "metadata": {
    "colab": {
      "name": "Untitled2.ipynb",
      "provenance": [],
      "authorship_tag": "ABX9TyP0CJRGPtwmORMA0q5rMlzR",
      "include_colab_link": true
    },
    "kernelspec": {
      "name": "python3",
      "display_name": "Python 3"
    }
  },
  "cells": [
    {
      "cell_type": "markdown",
      "metadata": {
        "id": "view-in-github",
        "colab_type": "text"
      },
      "source": [
        "<a href=\"https://colab.research.google.com/github/andrybrew/MLCaseStudy/blob/master/Hotel%20Recommendation.ipynb\" target=\"_parent\"><img src=\"https://colab.research.google.com/assets/colab-badge.svg\" alt=\"Open In Colab\"/></a>"
      ]
    },
    {
      "cell_type": "markdown",
      "metadata": {
        "id": "Bz32b7QiiVSF",
        "colab_type": "text"
      },
      "source": [
        "**HOTEL RECOMMENDATION**"
      ]
    },
    {
      "cell_type": "code",
      "metadata": {
        "id": "GAZHO8lziBft",
        "colab_type": "code",
        "colab": {}
      },
      "source": [
        "import datetime\n",
        "import pandas as pd\n",
        "import numpy as np\n",
        "import matplotlib.pyplot as plt\n",
        "import seaborn as sns\n",
        "%matplotlib inline\n",
        "from sklearn.model_selection import cross_val_score\n",
        "from sklearn.ensemble import RandomForestClassifier\n",
        "from sklearn.pipeline import make_pipeline\n",
        "from sklearn import preprocessing\n",
        "from sklearn.preprocessing import StandardScaler\n",
        "from sklearn import svm"
      ],
      "execution_count": 0,
      "outputs": []
    },
    {
      "cell_type": "code",
      "metadata": {
        "id": "F7nNEx6EjAGi",
        "colab_type": "code",
        "colab": {}
      },
      "source": [
        "from google.colab import drive\n",
        "drive.mount('/content/drive')"
      ],
      "execution_count": 0,
      "outputs": []
    },
    {
      "cell_type": "markdown",
      "metadata": {
        "id": "r3gNvlZ8kJRy",
        "colab_type": "text"
      },
      "source": [
        "To be able to process locally, we randomly sample 1% of the records. After that, we still have a large number of records at 241,179."
      ]
    },
    {
      "cell_type": "code",
      "metadata": {
        "id": "vx2yW7srihHi",
        "colab_type": "code",
        "colab": {}
      },
      "source": [
        "df = pd.read_csv('train.csv.gz', sep=',').dropna()\n",
        "dest = pd.read_csv('destinations.csv.gz')\n",
        "df = df.sample(frac=0.01, random_state=99)\n",
        "df.shape"
      ],
      "execution_count": 0,
      "outputs": []
    },
    {
      "cell_type": "markdown",
      "metadata": {
        "id": "dHknVVhSj_BW",
        "colab_type": "text"
      },
      "source": [
        "EDA\n",
        "The objective is to predict which hotel_cluster a user will book given the information in his (or her) search. There are 100 clusters in total. In another word, we are dealing with a 100 class classification problem."
      ]
    },
    {
      "cell_type": "code",
      "metadata": {
        "id": "BDaLGUI7j6pg",
        "colab_type": "code",
        "colab": {}
      },
      "source": [
        "plt.figure(figsize=(12, 6))\n",
        "sns.distplot(df['hotel_cluster'])"
      ],
      "execution_count": 0,
      "outputs": []
    }
  ]
}